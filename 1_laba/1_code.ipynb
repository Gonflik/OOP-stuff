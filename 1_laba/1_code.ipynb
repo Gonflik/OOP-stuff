{
 "cells": [
  {
   "cell_type": "code",
   "execution_count": 2,
   "id": "058eb020",
   "metadata": {},
   "outputs": [
    {
     "name": "stdout",
     "output_type": "stream",
     "text": [
      "Danylo start programming at 2025-10-05 18:14:56.844097. Osaka is the best city!\n"
     ]
    }
   ],
   "source": [
    "from datetime import datetime\n",
    "name = \"Danylo\"\n",
    "location = \"Osaka\"\n",
    "\n",
    "print(f\"{name} start programming at {datetime.now()}. {location} is the best city!\")"
   ]
  },
  {
   "cell_type": "markdown",
   "id": "61a81fca",
   "metadata": {},
   "source": [
    "# My first program"
   ]
  }
 ],
 "metadata": {
  "kernelspec": {
   "display_name": "Python 3",
   "language": "python",
   "name": "python3"
  },
  "language_info": {
   "codemirror_mode": {
    "name": "ipython",
    "version": 3
   },
   "file_extension": ".py",
   "mimetype": "text/x-python",
   "name": "python",
   "nbconvert_exporter": "python",
   "pygments_lexer": "ipython3",
   "version": "3.13.7"
  }
 },
 "nbformat": 4,
 "nbformat_minor": 5
}
